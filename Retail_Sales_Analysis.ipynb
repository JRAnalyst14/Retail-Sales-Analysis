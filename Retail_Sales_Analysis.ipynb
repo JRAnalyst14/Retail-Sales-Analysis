{
 "cells": [
  {
   "cell_type": "markdown",
   "metadata": {
    "id": "nqvtxPXXqDNS"
   },
   "source": [
    "# Retail Sales Analysis"
   ]
  },
  {
   "cell_type": "markdown",
   "metadata": {
    "id": "LuErLvVCqIYQ"
   },
   "source": [
    "The Retail Sales Analysis Project aims to leverage data analytics techniques to derive actionable insights from a retail company's sales data. Retail businesses operate in a dynamic environment where understanding consumer behavior, optimizing pricing strategies, and identifying trends are crucial for success. This project focuses on analyzing various aspects of sales data to help businesses make informed decisions that drive revenue growth, enhance operational efficiency, and improve customer satisfaction.\n",
    "\n",
    "In this project, we will explore and analyze historical sales data, which includes information such as product sales, pricing, customer demographics, promotional activities, and other related variables. By utilizing data analysis tools and techniques, we will uncover key patterns and trends that influence retail performance. The goal is to provide a comprehensive understanding of the sales dynamics within a retail business, enabling stakeholders to improve inventory management, optimize marketing efforts, and forecast future sales trends."
   ]
  },
  {
   "cell_type": "markdown",
   "metadata": {
    "id": "pfro2HyW8qb8"
   },
   "source": [
    "## Objectives"
   ]
  },
  {
   "cell_type": "markdown",
   "metadata": {
    "id": "CLr19Zch8xlp"
   },
   "source": [
    "1. **Exploratory Data Analysis (EDA)**: To understand and summarize the key features, generate insights, and visualize insights into particular graphs required for particular sales related measure.\n",
    "\n",
    "2. **Statistical Analysis**: Perform Hypothesis Testing with the help of tools such as ANOVA Test from SciPy module and various important functions in NumPy module.\n",
    "\n",
    "3. **Data Cleaning and Preprocessing**: Cleaning and Transforming raw data to provide insights and improve accuracy using the pandas module\n"
   ]
  },
  {
   "cell_type": "markdown",
   "metadata": {
    "id": "px5waUr_-UvK"
   },
   "source": [
    "## Pre-requisites"
   ]
  },
  {
   "cell_type": "markdown",
   "metadata": {
    "id": "JTQ4QN4--XWx"
   },
   "source": [
    "In order to create or perform this project there are certain requirements the user will need to be familiar with:\n",
    "\n",
    "* Functions\n",
    "* Control Statements\n",
    "* Exception Handling\n",
    "* File Handling\n",
    "* NumPy Module\n",
    "* Pandas Module\n",
    "* Matplotlib Module\n",
    "* Seaborn Module\n",
    "* SciPy Module"
   ]
  },
  {
   "cell_type": "markdown",
   "metadata": {
    "id": "AYm4L49t_beS"
   },
   "source": [
    "## Step 1 - Importing Modules"
   ]
  },
  {
   "cell_type": "code",
   "execution_count": 1,
   "metadata": {
    "id": "fP1qjpOB_mn2"
   },
   "outputs": [],
   "source": [
    "import pandas as pd\n",
    "import numpy as np\n",
    "import seaborn as sns\n",
    "import matplotlib.pyplot as plt\n",
    "from scipy.stats import f_oneway"
   ]
  },
  {
   "cell_type": "markdown",
   "metadata": {
    "id": "QmEBUdhn_nlo"
   },
   "source": [
    "## Step 2 - Loading Data and Preprocessing"
   ]
  },
  {
   "cell_type": "code",
   "execution_count": 2,
   "metadata": {
    "id": "7IrZdNgr_yLG"
   },
   "outputs": [],
   "source": [
    "def load_data():\n",
    "    try:\n",
    "        data = pd.read_csv('sales_data.csv')\n",
    "        pd.set_option('display.max_columns', None)\n",
    "        data\n",
    "        data['Date'] = pd.to_datetime(data['Date'])\n",
    "        data.info()\n",
    "        data.isnull().any()\n",
    "        data.duplicated()\n",
    "        return data\n",
    "    except FileNotFoundError:\n",
    "        print(\"Error: File not found. Please check the file path.\")\n",
    "        exit()\n",
    "    except pd.errors.ParserError:\n",
    "        print(\"Error: File format is incorrect. Please check the file.\")\n",
    "        exit()"
   ]
  },
  {
   "cell_type": "markdown",
   "metadata": {
    "id": "XoQeCwMAAA34"
   },
   "source": [
    "## Step 3 - Exploratory Data Analysis Using NumPy, Pandas, File Handling, Matplotlib and Seaborn"
   ]
  },
  {
   "cell_type": "code",
   "execution_count": 3,
   "metadata": {
    "id": "_wv33CqVAOZK"
   },
   "outputs": [],
   "source": [
    "def perform_eda(data, output_file):\n",
    "    with open(output_file, 'a') as file:\n",
    "        data['Total_Sales'] = data['Quantity'] * data['Price']\n",
    "\n",
    "        monthly_sales = data.groupby(data['Date'].dt.to_period('M'))['Total_Sales'].apply(np.sum)\n",
    "        file.write(f\"Monthly Sales Trend:\\n{monthly_sales}\\n\\n\")\n",
    "\n",
    "        top_products = (\n",
    "            data.groupby('Product')['Quantity']\n",
    "            .apply(np.sum)\n",
    "            .sort_values(ascending=False)\n",
    "            .head(5)\n",
    "        )\n",
    "        file.write(f\"Top 5 Products by Quantity Sold:\\n{top_products}\\n\\n\")\n",
    "\n",
    "        region_performance = (\n",
    "            data.groupby('Region')['Total_Sales']\n",
    "            .apply(np.sum)\n",
    "        )\n",
    "        file.write(f\"Sales by Region:\\n{region_performance}\\n\\n\")\n",
    "\n",
    "        sns.boxplot(x='Discount', y='Total_Sales', data=data)\n",
    "        plt.title('Impact of Discount on Total Sales')\n",
    "        plt.savefig(\"discount_impact_sales.png\")  # Save visualization as an image\n",
    "        plt.close()\n",
    "\n",
    "        data['Profit_Margin'] = np.divide(data['Profit'], data['Total_Sales'])\n",
    "        sns.barplot(x='Category', y='Profit_Margin', data=data)\n",
    "        plt.title('Profit Margin by Category')\n",
    "        plt.savefig(\"profit_margin_category.png\")  # Save visualization as an image\n",
    "        plt.close()\n",
    "\n",
    "        sns.countplot(x='Category', data=data)\n",
    "        plt.title('Count of Category')\n",
    "        plt.savefig(\"Category.png\")  # Save visualization as an image\n",
    "        plt.close()"
   ]
  },
  {
   "cell_type": "markdown",
   "metadata": {
    "id": "VXPizPe5AYit"
   },
   "source": [
    "## Step 4 - Statistical Analysis using ANOVA Test and NumPy"
   ]
  },
  {
   "cell_type": "code",
   "execution_count": 4,
   "metadata": {
    "id": "DXyPE3lDAvWt"
   },
   "outputs": [],
   "source": [
    "def perform_statistical_analysis(data, output_file):\n",
    "    with open(output_file, 'a') as file:\n",
    "        regions = np.unique(data['Region'])\n",
    "        region_sales = [data[data['Region'] == region]['Total_Sales'].values for region in regions]\n",
    "\n",
    "        # Performing ANOVA test\n",
    "        f_stat, p_val = f_oneway(*region_sales)\n",
    "        file.write(f\"ANOVA Test Result: F-Statistic = {f_stat}, P-Value = {p_val}\\n\")\n",
    "\n",
    "        if p_val < 0.05:\n",
    "            file.write(\"There is a significant difference in sales between regions.\\n\\n\")\n",
    "        else:\n",
    "            file.write(\"There is no significant difference in sales between regions.\\n\\n\")"
   ]
  },
  {
   "cell_type": "markdown",
   "metadata": {
    "id": "Lnpn6ZTwA4H0"
   },
   "source": [
    "## Step 5 - Creating Module functions for each Data Insight to write"
   ]
  },
  {
   "cell_type": "code",
   "execution_count": 5,
   "metadata": {
    "id": "FhMieY-fA_Pb"
   },
   "outputs": [],
   "source": [
    "def calculate_total_sales(data):\n",
    "    return np.sum(data['Total_Sales'])\n",
    "\n",
    "def get_top_products(data, top_n=5):\n",
    "    grouped = data.groupby('Product')['Quantity'].apply(np.sum)\n",
    "    return grouped.sort_values(ascending=False).head(top_n)\n",
    "\n",
    "def calculate_profit_margin(data):\n",
    "    return np.sum(data['Profit']) / np.sum(data['Total_Sales'])"
   ]
  },
  {
   "cell_type": "markdown",
   "metadata": {
    "id": "8j9b3RZIBEEJ"
   },
   "source": [
    "## Step 6 - Main Execution"
   ]
  },
  {
   "cell_type": "code",
   "execution_count": 6,
   "metadata": {
    "colab": {
     "base_uri": "https://localhost:8080/"
    },
    "id": "eQhMAQbkBWJP",
    "outputId": "696e90d2-c91c-4b40-919d-a664874c0b3c"
   },
   "outputs": [
    {
     "name": "stdout",
     "output_type": "stream",
     "text": [
      "<class 'pandas.core.frame.DataFrame'>\n",
      "RangeIndex: 70 entries, 0 to 69\n",
      "Data columns (total 8 columns):\n",
      " #   Column    Non-Null Count  Dtype         \n",
      "---  ------    --------------  -----         \n",
      " 0   Date      70 non-null     datetime64[ns]\n",
      " 1   Product   70 non-null     object        \n",
      " 2   Category  70 non-null     object        \n",
      " 3   Region    70 non-null     object        \n",
      " 4   Quantity  70 non-null     int64         \n",
      " 5   Price     70 non-null     int64         \n",
      " 6   Discount  70 non-null     int64         \n",
      " 7   Profit    70 non-null     int64         \n",
      "dtypes: datetime64[ns](1), int64(4), object(3)\n",
      "memory usage: 4.5+ KB\n",
      "Analysis completed. Results have been saved to analysis_results.txt.\n",
      "Visualizations saved as images.\n"
     ]
    }
   ],
   "source": [
    "def main():\n",
    "    input_file = 'sales_data.csv'\n",
    "    output_file = 'analysis_results.txt'\n",
    "\n",
    "    with open(output_file, 'w') as file:\n",
    "        file.write(\"Sales Data Analysis Results\\n\")\n",
    "        file.write(\"=\" * 50 + \"\\n\\n\")\n",
    "\n",
    "    data = load_data()\n",
    "\n",
    "    # Perform EDA\n",
    "    perform_eda(data, output_file)\n",
    "\n",
    "    # Perform Statistical Analysis\n",
    "    perform_statistical_analysis(data, output_file)\n",
    "\n",
    "    with open(output_file, 'a') as file:\n",
    "        # Calculate total sales\n",
    "        total_sales = calculate_total_sales(data)\n",
    "        file.write(f\"Total Sales: {total_sales}\\n\\n\")\n",
    "\n",
    "        # Get top products\n",
    "        top_products = get_top_products(data)\n",
    "        file.write(f\"Top Products by Quantity Sold:\\n{top_products}\\n\\n\")\n",
    "\n",
    "        # Calculate profit margin\n",
    "        profit_margin = calculate_profit_margin(data)\n",
    "        file.write(f\"Overall Profit Margin: {profit_margin:.2f}\\n\\n\")\n",
    "\n",
    "    print(f\"Analysis completed. Results have been saved to {output_file}.\")\n",
    "    print(\"Visualizations saved as images.\")\n",
    "\n",
    "if __name__ == \"__main__\":\n",
    "    main()"
   ]
  },
  {
   "cell_type": "markdown",
   "metadata": {
    "id": "RsBpXyatBk0l"
   },
   "source": [
    "## Retail Sales Analysis Final Combined Code of all the Steps"
   ]
  },
  {
   "cell_type": "code",
   "execution_count": 7,
   "metadata": {
    "colab": {
     "base_uri": "https://localhost:8080/"
    },
    "id": "Uo-9hx9uWH5a",
    "outputId": "0d73ecd9-da86-4b78-ce2a-5b16c9fcd9be"
   },
   "outputs": [
    {
     "name": "stdout",
     "output_type": "stream",
     "text": [
      "<class 'pandas.core.frame.DataFrame'>\n",
      "RangeIndex: 70 entries, 0 to 69\n",
      "Data columns (total 8 columns):\n",
      " #   Column    Non-Null Count  Dtype         \n",
      "---  ------    --------------  -----         \n",
      " 0   Date      70 non-null     datetime64[ns]\n",
      " 1   Product   70 non-null     object        \n",
      " 2   Category  70 non-null     object        \n",
      " 3   Region    70 non-null     object        \n",
      " 4   Quantity  70 non-null     int64         \n",
      " 5   Price     70 non-null     int64         \n",
      " 6   Discount  70 non-null     int64         \n",
      " 7   Profit    70 non-null     int64         \n",
      "dtypes: datetime64[ns](1), int64(4), object(3)\n",
      "memory usage: 4.5+ KB\n",
      "Analysis completed. Results have been saved to analysis_results.txt.\n",
      "Visualizations saved as images.\n"
     ]
    }
   ],
   "source": [
    "import pandas as pd\n",
    "import numpy as np\n",
    "import seaborn as sns\n",
    "import matplotlib.pyplot as plt\n",
    "from scipy.stats import f_oneway\n",
    "\n",
    "# Data Loading and Preprocessing\n",
    "def load_data():\n",
    "    try:\n",
    "        data = pd.read_csv('sales_data.csv')\n",
    "        pd.set_option('display.max_columns', None)\n",
    "        data\n",
    "        data['Date'] = pd.to_datetime(data['Date'])\n",
    "        data.info()\n",
    "        data.isnull().any()\n",
    "        data.duplicated()\n",
    "        return data\n",
    "    except FileNotFoundError:\n",
    "        print(\"Error: File not found. Please check the file path.\")\n",
    "        exit()\n",
    "    except pd.errors.ParserError:\n",
    "        print(\"Error: File format is incorrect. Please check the file.\")\n",
    "        exit()\n",
    "\n",
    "# Exploratory Data Analysis using NumPy\n",
    "def perform_eda(data, output_file):\n",
    "    with open(output_file, 'a') as file:\n",
    "        data['Total_Sales'] = data['Quantity'] * data['Price']\n",
    "\n",
    "        monthly_sales = data.groupby(data['Date'].dt.to_period('M'))['Total_Sales'].apply(np.sum)\n",
    "        file.write(f\"Monthly Sales Trend:\\n{monthly_sales}\\n\\n\")\n",
    "\n",
    "        top_products = (\n",
    "            data.groupby('Product')['Quantity']\n",
    "            .apply(np.sum)\n",
    "            .sort_values(ascending=False)\n",
    "            .head(5)\n",
    "        )\n",
    "        file.write(f\"Top 5 Products by Quantity Sold:\\n{top_products}\\n\\n\")\n",
    "\n",
    "        region_performance = (\n",
    "            data.groupby('Region')['Total_Sales']\n",
    "            .apply(np.sum)\n",
    "        )\n",
    "        file.write(f\"Sales by Region:\\n{region_performance}\\n\\n\")\n",
    "\n",
    "        sns.boxplot(x='Discount', y='Total_Sales', data=data)\n",
    "        plt.title('Impact of Discount on Total Sales')\n",
    "        plt.savefig(\"discount_impact_sales.png\")  # Save visualization as an image\n",
    "        plt.close()\n",
    "\n",
    "        data['Profit_Margin'] = np.divide(data['Profit'], data['Total_Sales'])\n",
    "        sns.barplot(x='Category', y='Profit_Margin', data=data)\n",
    "        plt.title('Profit Margin by Category')\n",
    "        plt.savefig(\"profit_margin_category.png\")  # Save visualization as an image\n",
    "        plt.close()\n",
    "\n",
    "        sns.countplot(x='Category', data=data)\n",
    "        plt.title('Count of Category')\n",
    "        plt.savefig(\"Category.png\")  # Save visualization as an image\n",
    "        plt.close()\n",
    "\n",
    "# Statistical Analysis with ANOVA using NumPy\n",
    "def perform_statistical_analysis(data, output_file):\n",
    "    with open(output_file, 'a') as file:\n",
    "        regions = np.unique(data['Region'])\n",
    "        region_sales = [data[data['Region'] == region]['Total_Sales'].values for region in regions]\n",
    "\n",
    "        # Performing ANOVA test\n",
    "        f_stat, p_val = f_oneway(*region_sales)\n",
    "        file.write(f\"ANOVA Test Result: F-Statistic = {f_stat}, P-Value = {p_val}\\n\")\n",
    "\n",
    "        if p_val < 0.05:\n",
    "            file.write(\"There is a significant difference in sales between regions.\\n\\n\")\n",
    "        else:\n",
    "            file.write(\"There is no significant difference in sales between regions.\\n\\n\")\n",
    "\n",
    "# Custom Module Functions\n",
    "def calculate_total_sales(data):\n",
    "    return np.sum(data['Total_Sales'])\n",
    "\n",
    "def get_top_products(data, top_n=5):\n",
    "    grouped = data.groupby('Product')['Quantity'].apply(np.sum)\n",
    "    return grouped.sort_values(ascending=False).head(top_n)\n",
    "\n",
    "def calculate_profit_margin(data):\n",
    "    return np.sum(data['Profit']) / np.sum(data['Total_Sales'])\n",
    "\n",
    "# Main Execution\n",
    "def main():\n",
    "    input_file = 'sales_data.csv'\n",
    "    output_file = 'analysis_results.txt'\n",
    "\n",
    "    with open(output_file, 'w') as file:\n",
    "        file.write(\"Sales Data Analysis Results\\n\")\n",
    "        file.write(\"=\" * 50 + \"\\n\\n\")\n",
    "\n",
    "    data = load_data()\n",
    "\n",
    "    perform_eda(data, output_file)\n",
    "\n",
    "    perform_statistical_analysis(data, output_file)\n",
    "\n",
    "    with open(output_file, 'a') as file:\n",
    "        # Calculate total sales\n",
    "        total_sales = calculate_total_sales(data)\n",
    "        file.write(f\"Total Sales: {total_sales}\\n\\n\")\n",
    "\n",
    "        # Get top products\n",
    "        top_products = get_top_products(data)\n",
    "        file.write(f\"Top Products by Quantity Sold:\\n{top_products}\\n\\n\")\n",
    "\n",
    "        # Calculate profit margin\n",
    "        profit_margin = calculate_profit_margin(data)\n",
    "        file.write(f\"Overall Profit Margin: {profit_margin:.2f}\\n\\n\")\n",
    "\n",
    "    print(f\"Analysis completed. Results have been saved to {output_file}.\")\n",
    "    print(\"Visualizations saved as images.\")\n",
    "\n",
    "if __name__ == \"__main__\":\n",
    "    main()\n"
   ]
  },
  {
   "cell_type": "markdown",
   "metadata": {
    "id": "Gmmix3y9BxrO"
   },
   "source": [
    "## Conclusions of the Project"
   ]
  },
  {
   "cell_type": "markdown",
   "metadata": {
    "id": "MxRF5LI7B2HX"
   },
   "source": [
    "Based on the analysis of the Retail Sales Data, several key insights were derived to improve business strategies and decisions.\n",
    "\n",
    "* **Monthly Sales Trend**: Sales has steadily increased from January to May with a notable peak of **12830** worth of total sales. This data indicates successful promotional activities during this period.\n",
    "\n",
    "* **Top Products by Quantity Sold**: **Product C** emerged as the highest selling product. **Product B** emerged as lowest selling product. This highlights the products which bring in the majority of sales.\n",
    "\n",
    "* **Sales by region** : The South region generated the most sales of **14830** followed by East region **13970** and North region **12180** and finally West reports the lowest sales of **8040** indicating an improvement or growth required for that area\n",
    "\n",
    "* **Regional sales comparision**: Based on the ANOVA test, the probability value (p_value) is **0.321** and f_statistic is **1.188** suggesting there is not significant difference between the regions in their sales\n",
    "\n",
    "* **Profit margin** : The overall profit margin was calculated as **17%** including room for improvement in fields such as cost optimisation, pricing strategies and many more.\n",
    "\n",
    "* **Total Sales**: The total sales for the analyzed period amounted to **49020**, henceforth providing a reference line for future potnetial sales\n",
    "\n",
    "* Visualizations regarding the data have been generated into **.png** files for references whereas the analysis is stored inside **.txt** file\n",
    "\n"
   ]
  }
 ],
 "metadata": {
  "colab": {
   "provenance": []
  },
  "kernelspec": {
   "display_name": "Python 3 (ipykernel)",
   "language": "python",
   "name": "python3"
  },
  "language_info": {
   "codemirror_mode": {
    "name": "ipython",
    "version": 3
   },
   "file_extension": ".py",
   "mimetype": "text/x-python",
   "name": "python",
   "nbconvert_exporter": "python",
   "pygments_lexer": "ipython3",
   "version": "3.10.11"
  }
 },
 "nbformat": 4,
 "nbformat_minor": 4
}
